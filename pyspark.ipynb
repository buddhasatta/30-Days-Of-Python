{
  "nbformat": 4,
  "nbformat_minor": 0,
  "metadata": {
    "colab": {
      "provenance": [],
      "authorship_tag": "ABX9TyMMiDo7TaAGFYwYENz4SkAW",
      "include_colab_link": true
    },
    "kernelspec": {
      "name": "python3",
      "display_name": "Python 3"
    },
    "language_info": {
      "name": "python"
    }
  },
  "cells": [
    {
      "cell_type": "markdown",
      "metadata": {
        "id": "view-in-github",
        "colab_type": "text"
      },
      "source": [
        "<a href=\"https://colab.research.google.com/github/buddhasatta/30-Days-Of-Python/blob/master/pyspark.ipynb\" target=\"_parent\"><img src=\"https://colab.research.google.com/assets/colab-badge.svg\" alt=\"Open In Colab\"/></a>"
      ]
    },
    {
      "cell_type": "code",
      "execution_count": 1,
      "metadata": {
        "colab": {
          "base_uri": "https://localhost:8080/"
        },
        "id": "AXlUHuuaXCIO",
        "outputId": "bd990e8f-a17d-4c30-d6f6-b993d22f11b1"
      },
      "outputs": [
        {
          "output_type": "stream",
          "name": "stdout",
          "text": [
            "Collecting pyspark\n",
            "  Downloading pyspark-3.4.1.tar.gz (310.8 MB)\n",
            "\u001b[2K     \u001b[90m━━━━━━━━━━━━━━━━━━━━━━━━━━━━━━━━━━━━━━━\u001b[0m \u001b[32m310.8/310.8 MB\u001b[0m \u001b[31m5.0 MB/s\u001b[0m eta \u001b[36m0:00:00\u001b[0m\n",
            "\u001b[?25h  Preparing metadata (setup.py) ... \u001b[?25l\u001b[?25hdone\n",
            "Requirement already satisfied: py4j==0.10.9.7 in /usr/local/lib/python3.10/dist-packages (from pyspark) (0.10.9.7)\n",
            "Building wheels for collected packages: pyspark\n",
            "  Building wheel for pyspark (setup.py) ... \u001b[?25l\u001b[?25hdone\n",
            "  Created wheel for pyspark: filename=pyspark-3.4.1-py2.py3-none-any.whl size=311285398 sha256=f131c971d02357235f13446cbaffc0f0042ed0d8adf92c705c2c94f868e1bbe7\n",
            "  Stored in directory: /root/.cache/pip/wheels/0d/77/a3/ff2f74cc9ab41f8f594dabf0579c2a7c6de920d584206e0834\n",
            "Successfully built pyspark\n",
            "Installing collected packages: pyspark\n",
            "Successfully installed pyspark-3.4.1\n"
          ]
        }
      ],
      "source": [
        "pip install pyspark\n"
      ]
    },
    {
      "cell_type": "code",
      "source": [
        "from pyspark.sql import SparkSession"
      ],
      "metadata": {
        "id": "YEBdpu5BXF31"
      },
      "execution_count": 2,
      "outputs": []
    },
    {
      "cell_type": "code",
      "source": [
        "spark=SparkSession.builder.appName(\"machine learning library\").getOrCreate()"
      ],
      "metadata": {
        "id": "QC5XlLSsXeUz"
      },
      "execution_count": 3,
      "outputs": []
    },
    {
      "cell_type": "code",
      "source": [
        "df=spark.read.csv(\"/content/sample_data/sample_data.csv\",inferSchema=True,header=True)"
      ],
      "metadata": {
        "id": "fmrF87iVXvrk"
      },
      "execution_count": 4,
      "outputs": []
    },
    {
      "cell_type": "code",
      "source": [
        "df.columns"
      ],
      "metadata": {
        "colab": {
          "base_uri": "https://localhost:8080/"
        },
        "id": "ECvryVsgZIVk",
        "outputId": "cf22bc5c-7e78-4f22-9467-fba0e32e4f46"
      },
      "execution_count": 8,
      "outputs": [
        {
          "output_type": "execute_result",
          "data": {
            "text/plain": [
              "['ratings', 'age', 'experience', 'family', 'mobile']"
            ]
          },
          "metadata": {},
          "execution_count": 8
        }
      ]
    },
    {
      "cell_type": "code",
      "source": [
        "len(df.columns)"
      ],
      "metadata": {
        "colab": {
          "base_uri": "https://localhost:8080/"
        },
        "id": "q1aj2RnLZROc",
        "outputId": "18b74ff4-2333-425a-a9f2-42a7d21b2035"
      },
      "execution_count": 9,
      "outputs": [
        {
          "output_type": "execute_result",
          "data": {
            "text/plain": [
              "5"
            ]
          },
          "metadata": {},
          "execution_count": 9
        }
      ]
    },
    {
      "cell_type": "code",
      "source": [
        "df.count()"
      ],
      "metadata": {
        "colab": {
          "base_uri": "https://localhost:8080/"
        },
        "id": "bdaS2KZFZgi5",
        "outputId": "7435b06b-5563-44e3-ee7c-fb665af1ac81"
      },
      "execution_count": 11,
      "outputs": [
        {
          "output_type": "execute_result",
          "data": {
            "text/plain": [
              "33"
            ]
          },
          "metadata": {},
          "execution_count": 11
        }
      ]
    },
    {
      "cell_type": "code",
      "source": [
        "print(df.count(),len(df.columns))"
      ],
      "metadata": {
        "colab": {
          "base_uri": "https://localhost:8080/"
        },
        "id": "pL5SSLPtZikQ",
        "outputId": "cc9ec5df-afb2-4503-a87b-ae415129913d"
      },
      "execution_count": 18,
      "outputs": [
        {
          "output_type": "stream",
          "name": "stdout",
          "text": [
            "33 5\n"
          ]
        }
      ]
    },
    {
      "cell_type": "code",
      "source": [
        "df.printSchema()"
      ],
      "metadata": {
        "colab": {
          "base_uri": "https://localhost:8080/"
        },
        "id": "-3cKvD9qaBMs",
        "outputId": "c41a0292-67fd-4b5e-c5a0-7307739edad7"
      },
      "execution_count": 19,
      "outputs": [
        {
          "output_type": "stream",
          "name": "stdout",
          "text": [
            "root\n",
            " |-- ratings: integer (nullable = true)\n",
            " |-- age: integer (nullable = true)\n",
            " |-- experience: double (nullable = true)\n",
            " |-- family: integer (nullable = true)\n",
            " |-- mobile: string (nullable = true)\n",
            "\n"
          ]
        }
      ]
    },
    {
      "cell_type": "code",
      "source": [
        "df.show()"
      ],
      "metadata": {
        "colab": {
          "base_uri": "https://localhost:8080/"
        },
        "id": "i6lEeTqaaWlG",
        "outputId": "93d85418-bbb5-483b-f345-66b0ea14ad40"
      },
      "execution_count": 21,
      "outputs": [
        {
          "output_type": "stream",
          "name": "stdout",
          "text": [
            "+-------+---+----------+------+-------+\n",
            "|ratings|age|experience|family| mobile|\n",
            "+-------+---+----------+------+-------+\n",
            "|      3| 32|       9.0|     3|   Vivo|\n",
            "|      3| 27|      13.0|     3|  Apple|\n",
            "|      4| 22|       2.5|     0|Samsung|\n",
            "|      4| 37|      16.5|     4|  Apple|\n",
            "|      5| 27|       9.0|     1|     MI|\n",
            "|      4| 27|       9.0|     0|   Oppo|\n",
            "|      5| 37|      23.0|     5|   Vivo|\n",
            "|      5| 37|      23.0|     5|Samsung|\n",
            "|      3| 22|       2.5|     0|  Apple|\n",
            "|      3| 27|       6.0|     0|     MI|\n",
            "|      2| 27|       6.0|     2|   Oppo|\n",
            "|      5| 27|       6.0|     2|Samsung|\n",
            "|      3| 37|      16.5|     5|  Apple|\n",
            "|      5| 27|       6.0|     0|     MI|\n",
            "|      4| 22|       6.0|     1|   Oppo|\n",
            "|      4| 37|       9.0|     2|Samsung|\n",
            "|      4| 27|       6.0|     1|  Apple|\n",
            "|      1| 37|      23.0|     5|     MI|\n",
            "|      2| 42|      23.0|     2|   Oppo|\n",
            "|      4| 37|       6.0|     0|   Vivo|\n",
            "+-------+---+----------+------+-------+\n",
            "only showing top 20 rows\n",
            "\n"
          ]
        }
      ]
    },
    {
      "cell_type": "code",
      "source": [
        "df.select(\"age\",\"experience\").show(10)"
      ],
      "metadata": {
        "colab": {
          "base_uri": "https://localhost:8080/"
        },
        "id": "dKcqGAxjagld",
        "outputId": "85565b54-5147-4799-9587-31a2b422db81"
      },
      "execution_count": 23,
      "outputs": [
        {
          "output_type": "stream",
          "name": "stdout",
          "text": [
            "+---+----------+\n",
            "|age|experience|\n",
            "+---+----------+\n",
            "| 32|       9.0|\n",
            "| 27|      13.0|\n",
            "| 22|       2.5|\n",
            "| 37|      16.5|\n",
            "| 27|       9.0|\n",
            "| 27|       9.0|\n",
            "| 37|      23.0|\n",
            "| 37|      23.0|\n",
            "| 22|       2.5|\n",
            "| 27|       6.0|\n",
            "+---+----------+\n",
            "only showing top 10 rows\n",
            "\n"
          ]
        }
      ]
    },
    {
      "cell_type": "code",
      "source": [
        "df.describe().show()"
      ],
      "metadata": {
        "colab": {
          "base_uri": "https://localhost:8080/"
        },
        "id": "1fbD_xgPcb-d",
        "outputId": "bf7db277-c407-44a7-95cb-833ad5e88675"
      },
      "execution_count": 24,
      "outputs": [
        {
          "output_type": "stream",
          "name": "stdout",
          "text": [
            "+-------+------------------+------------------+------------------+------------------+------+\n",
            "|summary|           ratings|               age|        experience|            family|mobile|\n",
            "+-------+------------------+------------------+------------------+------------------+------+\n",
            "|  count|                33|                33|                33|                33|    33|\n",
            "|   mean|3.5757575757575757|30.484848484848484|10.303030303030303|1.8181818181818181|  null|\n",
            "| stddev|1.1188806636071336|  6.18527087180309| 6.770731351213326|1.8448330794164254|  null|\n",
            "|    min|                 1|                22|               2.5|                 0| Apple|\n",
            "|    max|                 5|                42|              23.0|                 5|  Vivo|\n",
            "+-------+------------------+------------------+------------------+------------------+------+\n",
            "\n"
          ]
        }
      ]
    },
    {
      "cell_type": "code",
      "source": [
        "# df.withColumn(\"age_Plus_10_years\",(df[age]`+10`)).sho\n",
        "df.withColumn(\"age_plus_10_years\",(df[\"age\"]+10)).show()"
      ],
      "metadata": {
        "colab": {
          "base_uri": "https://localhost:8080/"
        },
        "id": "sgUy18cGclNO",
        "outputId": "e8fd4a2b-504b-4c99-cda6-c875dfbb0edb"
      },
      "execution_count": 34,
      "outputs": [
        {
          "output_type": "stream",
          "name": "stdout",
          "text": [
            "+-------+---+----------+------+-------+-----------------+\n",
            "|ratings|age|experience|family| mobile|age_plus_10_years|\n",
            "+-------+---+----------+------+-------+-----------------+\n",
            "|      3| 32|       9.0|     3|   Vivo|               42|\n",
            "|      3| 27|      13.0|     3|  Apple|               37|\n",
            "|      4| 22|       2.5|     0|Samsung|               32|\n",
            "|      4| 37|      16.5|     4|  Apple|               47|\n",
            "|      5| 27|       9.0|     1|     MI|               37|\n",
            "|      4| 27|       9.0|     0|   Oppo|               37|\n",
            "|      5| 37|      23.0|     5|   Vivo|               47|\n",
            "|      5| 37|      23.0|     5|Samsung|               47|\n",
            "|      3| 22|       2.5|     0|  Apple|               32|\n",
            "|      3| 27|       6.0|     0|     MI|               37|\n",
            "|      2| 27|       6.0|     2|   Oppo|               37|\n",
            "|      5| 27|       6.0|     2|Samsung|               37|\n",
            "|      3| 37|      16.5|     5|  Apple|               47|\n",
            "|      5| 27|       6.0|     0|     MI|               37|\n",
            "|      4| 22|       6.0|     1|   Oppo|               32|\n",
            "|      4| 37|       9.0|     2|Samsung|               47|\n",
            "|      4| 27|       6.0|     1|  Apple|               37|\n",
            "|      1| 37|      23.0|     5|     MI|               47|\n",
            "|      2| 42|      23.0|     2|   Oppo|               52|\n",
            "|      4| 37|       6.0|     0|   Vivo|               47|\n",
            "+-------+---+----------+------+-------+-----------------+\n",
            "only showing top 20 rows\n",
            "\n"
          ]
        }
      ]
    },
    {
      "cell_type": "code",
      "source": [
        "df.withColumn(\"age_plus_10_years\",(df[\"age\"]+10)).show(10)"
      ],
      "metadata": {
        "colab": {
          "base_uri": "https://localhost:8080/"
        },
        "id": "AY-jyZQpc6VF",
        "outputId": "f9d92038-1bfd-4e5f-cc0f-4934f6561682"
      },
      "execution_count": 36,
      "outputs": [
        {
          "output_type": "stream",
          "name": "stdout",
          "text": [
            "+-------+---+----------+------+-------+-----------------+\n",
            "|ratings|age|experience|family| mobile|age_plus_10_years|\n",
            "+-------+---+----------+------+-------+-----------------+\n",
            "|      3| 32|       9.0|     3|   Vivo|               42|\n",
            "|      3| 27|      13.0|     3|  Apple|               37|\n",
            "|      4| 22|       2.5|     0|Samsung|               32|\n",
            "|      4| 37|      16.5|     4|  Apple|               47|\n",
            "|      5| 27|       9.0|     1|     MI|               37|\n",
            "|      4| 27|       9.0|     0|   Oppo|               37|\n",
            "|      5| 37|      23.0|     5|   Vivo|               47|\n",
            "|      5| 37|      23.0|     5|Samsung|               47|\n",
            "|      3| 22|       2.5|     0|  Apple|               32|\n",
            "|      3| 27|       6.0|     0|     MI|               37|\n",
            "+-------+---+----------+------+-------+-----------------+\n",
            "only showing top 10 rows\n",
            "\n"
          ]
        }
      ]
    },
    {
      "cell_type": "code",
      "source": [
        "df.filter(df[\"mobile\"]==\"Vivo\").show()"
      ],
      "metadata": {
        "colab": {
          "base_uri": "https://localhost:8080/"
        },
        "id": "rPyL3w0Qdvfu",
        "outputId": "82081d9b-6137-4c5f-c006-973b880bfae7"
      },
      "execution_count": 42,
      "outputs": [
        {
          "output_type": "stream",
          "name": "stdout",
          "text": [
            "+-------+---+----------+------+------+\n",
            "|ratings|age|experience|family|mobile|\n",
            "+-------+---+----------+------+------+\n",
            "|      3| 32|       9.0|     3|  Vivo|\n",
            "|      5| 37|      23.0|     5|  Vivo|\n",
            "|      4| 37|       6.0|     0|  Vivo|\n",
            "|      5| 37|      13.0|     1|  Vivo|\n",
            "|      4| 37|       6.0|     0|  Vivo|\n",
            "+-------+---+----------+------+------+\n",
            "\n"
          ]
        }
      ]
    },
    {
      "cell_type": "code",
      "source": [
        "df.filter(df[\"mobile\"]==\"Vivo\").filter(df[\"age\"]>30).show()"
      ],
      "metadata": {
        "colab": {
          "base_uri": "https://localhost:8080/"
        },
        "id": "EnH6PZUMeLCI",
        "outputId": "4b5730c9-1e04-4180-eb60-9c8a4b9e0dd9"
      },
      "execution_count": 43,
      "outputs": [
        {
          "output_type": "stream",
          "name": "stdout",
          "text": [
            "+-------+---+----------+------+------+\n",
            "|ratings|age|experience|family|mobile|\n",
            "+-------+---+----------+------+------+\n",
            "|      3| 32|       9.0|     3|  Vivo|\n",
            "|      5| 37|      23.0|     5|  Vivo|\n",
            "|      4| 37|       6.0|     0|  Vivo|\n",
            "|      5| 37|      13.0|     1|  Vivo|\n",
            "|      4| 37|       6.0|     0|  Vivo|\n",
            "+-------+---+----------+------+------+\n",
            "\n"
          ]
        }
      ]
    },
    {
      "cell_type": "code",
      "source": [
        "\n",
        "\n",
        "df.filter((df['mobile']=='Vivo')&(df['experience'] >10)).show()\n",
        "\n"
      ],
      "metadata": {
        "colab": {
          "base_uri": "https://localhost:8080/"
        },
        "id": "bOOVXc_Re3PR",
        "outputId": "b0c71f69-424b-463d-87ef-f8c9ffc44b5c"
      },
      "execution_count": 56,
      "outputs": [
        {
          "output_type": "stream",
          "name": "stdout",
          "text": [
            "+-------+---+----------+------+------+\n",
            "|ratings|age|experience|family|mobile|\n",
            "+-------+---+----------+------+------+\n",
            "|      5| 37|      23.0|     5|  Vivo|\n",
            "|      5| 37|      13.0|     1|  Vivo|\n",
            "+-------+---+----------+------+------+\n",
            "\n"
          ]
        }
      ]
    },
    {
      "cell_type": "code",
      "source": [
        "df.select('mobile').distinct()"
      ],
      "metadata": {
        "colab": {
          "base_uri": "https://localhost:8080/"
        },
        "id": "-2izFF8xfCrC",
        "outputId": "95207d91-4e04-42a0-ed75-ee0856f5148e"
      },
      "execution_count": 62,
      "outputs": [
        {
          "output_type": "execute_result",
          "data": {
            "text/plain": [
              "DataFrame[mobile: string]"
            ]
          },
          "metadata": {},
          "execution_count": 62
        }
      ]
    },
    {
      "cell_type": "code",
      "source": [
        "df.groupBy('mobile').count().show()"
      ],
      "metadata": {
        "colab": {
          "base_uri": "https://localhost:8080/"
        },
        "id": "gTcS4xQkf3C_",
        "outputId": "4984e4d0-ac03-4e23-999e-1d79356c083e"
      },
      "execution_count": 63,
      "outputs": [
        {
          "output_type": "stream",
          "name": "stdout",
          "text": [
            "+-------+-----+\n",
            "| mobile|count|\n",
            "+-------+-----+\n",
            "|     MI|    8|\n",
            "|   Oppo|    7|\n",
            "|Samsung|    6|\n",
            "|   Vivo|    5|\n",
            "|  Apple|    7|\n",
            "+-------+-----+\n",
            "\n"
          ]
        }
      ]
    },
    {
      "cell_type": "code",
      "source": [
        "df.groupBy('age').mean().show()"
      ],
      "metadata": {
        "colab": {
          "base_uri": "https://localhost:8080/"
        },
        "id": "SY8uqPWXgS99",
        "outputId": "f421f9a1-071f-4b1f-c591-a0e2c239e25f"
      },
      "execution_count": 64,
      "outputs": [
        {
          "output_type": "stream",
          "name": "stdout",
          "text": [
            "+---+------------------+--------+-----------------+-----------+\n",
            "|age|      avg(ratings)|avg(age)|  avg(experience)|avg(family)|\n",
            "+---+------------------+--------+-----------------+-----------+\n",
            "| 27|3.5714285714285716|    27.0|6.892857142857143|        1.0|\n",
            "| 22|               4.0|    22.0|              3.9|        0.4|\n",
            "| 37|               3.8|    37.0|            15.25|        3.2|\n",
            "| 32|               2.5|    32.0|            12.75|        2.5|\n",
            "| 42|               2.5|    42.0|             23.0|        3.5|\n",
            "+---+------------------+--------+-----------------+-----------+\n",
            "\n"
          ]
        }
      ]
    },
    {
      "cell_type": "code",
      "source": [
        "df.groupBy(\"experience\").mean().show()"
      ],
      "metadata": {
        "colab": {
          "base_uri": "https://localhost:8080/"
        },
        "id": "NPUW3GhSl-VB",
        "outputId": "597cf0ba-0439-4c1d-f60d-5803bc69ca6e"
      },
      "execution_count": 66,
      "outputs": [
        {
          "output_type": "stream",
          "name": "stdout",
          "text": [
            "+----------+------------------+-----------------+---------------+------------------+\n",
            "|experience|      avg(ratings)|         avg(age)|avg(experience)|       avg(family)|\n",
            "+----------+------------------+-----------------+---------------+------------------+\n",
            "|      16.5|               3.0|            35.75|           16.5|               4.0|\n",
            "|       2.5|              4.25|            23.25|            2.5|               0.0|\n",
            "|      23.0|               3.2|             39.0|           23.0|               4.4|\n",
            "|      13.0|               4.0|             32.0|           13.0|               2.0|\n",
            "|       6.0|3.6153846153846154|27.76923076923077|            6.0|0.7692307692307693|\n",
            "|       9.0|               3.6|             30.0|            9.0|               1.6|\n",
            "+----------+------------------+-----------------+---------------+------------------+\n",
            "\n"
          ]
        }
      ]
    },
    {
      "cell_type": "code",
      "source": [
        "df.groupBy(\"mobile\").agg({\"age\":\"sum\"}).show()\n"
      ],
      "metadata": {
        "colab": {
          "base_uri": "https://localhost:8080/"
        },
        "id": "F7A-UajtmRwr",
        "outputId": "001e2a98-0840-4e2f-be5f-10cb955ac90f"
      },
      "execution_count": 74,
      "outputs": [
        {
          "output_type": "stream",
          "name": "stdout",
          "text": [
            "+-------+--------+\n",
            "| mobile|sum(age)|\n",
            "+-------+--------+\n",
            "|     MI|     241|\n",
            "|   Oppo|     199|\n",
            "|Samsung|     172|\n",
            "|   Vivo|     180|\n",
            "|  Apple|     214|\n",
            "+-------+--------+\n",
            "\n"
          ]
        }
      ]
    },
    {
      "cell_type": "code",
      "source": [
        "df.columns()"
      ],
      "metadata": {
        "colab": {
          "base_uri": "https://localhost:8080/"
        },
        "id": "Ed_IZQsHnl3t",
        "outputId": "811f99e5-07d5-4f27-b454-e808a93b3731"
      },
      "execution_count": 76,
      "outputs": [
        {
          "output_type": "execute_result",
          "data": {
            "text/plain": [
              "['ratings', 'age', 'experience', 'family', 'mobile']"
            ]
          },
          "metadata": {},
          "execution_count": 76
        }
      ]
    },
    {
      "cell_type": "code",
      "source": [
        "def price_range(brand):\n",
        "  if brand in [\"Samsung\",\"Apple\"]:\n",
        "    return \"high price\"\n",
        "  elif brand ==\"VivO\":\n",
        "    return \"medium price\"\n",
        "  else:\n",
        "    return \"low price\"\n",
        "\n",
        "\n",
        "\n",
        "\n"
      ],
      "metadata": {
        "id": "YxTtHlfTnbpH"
      },
      "execution_count": 106,
      "outputs": []
    },
    {
      "cell_type": "code",
      "source": [
        "brand_udf=udf(price_range,StringType())"
      ],
      "metadata": {
        "id": "0IXs-WZnn2lK"
      },
      "execution_count": 107,
      "outputs": []
    },
    {
      "cell_type": "code",
      "source": [],
      "metadata": {
        "id": "kdsxfv8-oOWo"
      },
      "execution_count": 107,
      "outputs": []
    },
    {
      "cell_type": "code",
      "source": [
        "df.withColumn(\"price_range\",brand_udf(df[\"mobile\"])).show()\n",
        "\n",
        "\n"
      ],
      "metadata": {
        "colab": {
          "base_uri": "https://localhost:8080/"
        },
        "id": "IkWMyE7gq6Y5",
        "outputId": "f8335484-eeef-4c51-d34b-3ba003e33322"
      },
      "execution_count": 109,
      "outputs": [
        {
          "output_type": "stream",
          "name": "stdout",
          "text": [
            "+-------+---+----------+------+-------+-----------+\n",
            "|ratings|age|experience|family| mobile|price_range|\n",
            "+-------+---+----------+------+-------+-----------+\n",
            "|      3| 32|       9.0|     3|   Vivo|  low price|\n",
            "|      3| 27|      13.0|     3|  Apple| high price|\n",
            "|      4| 22|       2.5|     0|Samsung| high price|\n",
            "|      4| 37|      16.5|     4|  Apple| high price|\n",
            "|      5| 27|       9.0|     1|     MI|  low price|\n",
            "|      4| 27|       9.0|     0|   Oppo|  low price|\n",
            "|      5| 37|      23.0|     5|   Vivo|  low price|\n",
            "|      5| 37|      23.0|     5|Samsung| high price|\n",
            "|      3| 22|       2.5|     0|  Apple| high price|\n",
            "|      3| 27|       6.0|     0|     MI|  low price|\n",
            "|      2| 27|       6.0|     2|   Oppo|  low price|\n",
            "|      5| 27|       6.0|     2|Samsung| high price|\n",
            "|      3| 37|      16.5|     5|  Apple| high price|\n",
            "|      5| 27|       6.0|     0|     MI|  low price|\n",
            "|      4| 22|       6.0|     1|   Oppo|  low price|\n",
            "|      4| 37|       9.0|     2|Samsung| high price|\n",
            "|      4| 27|       6.0|     1|  Apple| high price|\n",
            "|      1| 37|      23.0|     5|     MI|  low price|\n",
            "|      2| 42|      23.0|     2|   Oppo|  low price|\n",
            "|      4| 37|       6.0|     0|   Vivo|  low price|\n",
            "+-------+---+----------+------+-------+-----------+\n",
            "only showing top 20 rows\n",
            "\n"
          ]
        }
      ]
    },
    {
      "cell_type": "code",
      "source": [
        "age_udf=udf(lambda age : \"senior \" if age>10 else \"Junior\")"
      ],
      "metadata": {
        "id": "B-SfLOSysFxe"
      },
      "execution_count": 137,
      "outputs": []
    },
    {
      "cell_type": "code",
      "source": [
        "df.withColumn(\"age_level\",age_udf(df[\"age\"])).show()"
      ],
      "metadata": {
        "colab": {
          "base_uri": "https://localhost:8080/"
        },
        "id": "buygfKbZtasy",
        "outputId": "a3666577-2a03-42ed-ccd3-6b56de450abb"
      },
      "execution_count": 118,
      "outputs": [
        {
          "output_type": "stream",
          "name": "stdout",
          "text": [
            "+-------+---+----------+------+-------+---------+\n",
            "|ratings|age|experience|family| mobile|age_level|\n",
            "+-------+---+----------+------+-------+---------+\n",
            "|      3| 32|       9.0|     3|   Vivo|  senior |\n",
            "|      3| 27|      13.0|     3|  Apple|  senior |\n",
            "|      4| 22|       2.5|     0|Samsung|  senior |\n",
            "|      4| 37|      16.5|     4|  Apple|  senior |\n",
            "|      5| 27|       9.0|     1|     MI|  senior |\n",
            "|      4| 27|       9.0|     0|   Oppo|  senior |\n",
            "|      5| 37|      23.0|     5|   Vivo|  senior |\n",
            "|      5| 37|      23.0|     5|Samsung|  senior |\n",
            "|      3| 22|       2.5|     0|  Apple|  senior |\n",
            "|      3| 27|       6.0|     0|     MI|  senior |\n",
            "|      2| 27|       6.0|     2|   Oppo|  senior |\n",
            "|      5| 27|       6.0|     2|Samsung|  senior |\n",
            "|      3| 37|      16.5|     5|  Apple|  senior |\n",
            "|      5| 27|       6.0|     0|     MI|  senior |\n",
            "|      4| 22|       6.0|     1|   Oppo|  senior |\n",
            "|      4| 37|       9.0|     2|Samsung|  senior |\n",
            "|      4| 27|       6.0|     1|  Apple|  senior |\n",
            "|      1| 37|      23.0|     5|     MI|  senior |\n",
            "|      2| 42|      23.0|     2|   Oppo|  senior |\n",
            "|      4| 37|       6.0|     0|   Vivo|  senior |\n",
            "+-------+---+----------+------+-------+---------+\n",
            "only showing top 20 rows\n",
            "\n"
          ]
        }
      ]
    },
    {
      "cell_type": "code",
      "source": [
        "from pyspark.sql.functions import pandas_udf\n"
      ],
      "metadata": {
        "id": "tO6AiijOtmQf"
      },
      "execution_count": 138,
      "outputs": []
    },
    {
      "cell_type": "code",
      "source": [
        "from pyspark.sql.functions import  udf\n",
        "from pyspark.sql.types import *\n",
        "\n"
      ],
      "metadata": {
        "id": "ch-b93-Nmmbh"
      },
      "execution_count": 139,
      "outputs": []
    },
    {
      "cell_type": "code",
      "source": [
        "\n",
        "\n",
        "def age_left(age):\n",
        "  return (100-age)\n",
        "age_left_pd_udf=pandas_udf(age_left,IntegerType())"
      ],
      "metadata": {
        "id": "DchwsjDOva8G"
      },
      "execution_count": 135,
      "outputs": []
    },
    {
      "cell_type": "code",
      "source": [
        "df.withColumn(\"age_left\",age_left(df[\"age\"])).show()"
      ],
      "metadata": {
        "colab": {
          "base_uri": "https://localhost:8080/"
        },
        "id": "4vMWQJjXvtGH",
        "outputId": "e2e48e25-c0db-4018-f268-fe7228e2f345"
      },
      "execution_count": 136,
      "outputs": [
        {
          "output_type": "stream",
          "name": "stdout",
          "text": [
            "+-------+---+----------+------+-------+--------+\n",
            "|ratings|age|experience|family| mobile|age_left|\n",
            "+-------+---+----------+------+-------+--------+\n",
            "|      3| 32|       9.0|     3|   Vivo|      68|\n",
            "|      3| 27|      13.0|     3|  Apple|      73|\n",
            "|      4| 22|       2.5|     0|Samsung|      78|\n",
            "|      4| 37|      16.5|     4|  Apple|      63|\n",
            "|      5| 27|       9.0|     1|     MI|      73|\n",
            "|      4| 27|       9.0|     0|   Oppo|      73|\n",
            "|      5| 37|      23.0|     5|   Vivo|      63|\n",
            "|      5| 37|      23.0|     5|Samsung|      63|\n",
            "|      3| 22|       2.5|     0|  Apple|      78|\n",
            "|      3| 27|       6.0|     0|     MI|      73|\n",
            "|      2| 27|       6.0|     2|   Oppo|      73|\n",
            "|      5| 27|       6.0|     2|Samsung|      73|\n",
            "|      3| 37|      16.5|     5|  Apple|      63|\n",
            "|      5| 27|       6.0|     0|     MI|      73|\n",
            "|      4| 22|       6.0|     1|   Oppo|      78|\n",
            "|      4| 37|       9.0|     2|Samsung|      63|\n",
            "|      4| 27|       6.0|     1|  Apple|      73|\n",
            "|      1| 37|      23.0|     5|     MI|      63|\n",
            "|      2| 42|      23.0|     2|   Oppo|      58|\n",
            "|      4| 37|       6.0|     0|   Vivo|      63|\n",
            "+-------+---+----------+------+-------+--------+\n",
            "only showing top 20 rows\n",
            "\n"
          ]
        }
      ]
    },
    {
      "cell_type": "code",
      "source": [
        "def Complete_experience(age,experience):\n",
        "  return(age*experience)"
      ],
      "metadata": {
        "id": "DyKcz8Dtw7K8"
      },
      "execution_count": 140,
      "outputs": []
    },
    {
      "cell_type": "code",
      "source": [
        "complete_experience_udf=pandas_udf(Complete_experience,DoubleType())"
      ],
      "metadata": {
        "id": "VC2wwkMSxXGc"
      },
      "execution_count": 147,
      "outputs": []
    },
    {
      "cell_type": "code",
      "source": [
        "df.withColumn(\"complete_experiene\",complete_experience_udf(df[\"age\"],df[\"experience\"])).show()"
      ],
      "metadata": {
        "colab": {
          "base_uri": "https://localhost:8080/"
        },
        "id": "QOkdeQrcxcdM",
        "outputId": "87932967-6115-445f-ba7b-817dbbe6ae7f"
      },
      "execution_count": 148,
      "outputs": [
        {
          "output_type": "stream",
          "name": "stdout",
          "text": [
            "+-------+---+----------+------+-------+------------------+\n",
            "|ratings|age|experience|family| mobile|complete_experiene|\n",
            "+-------+---+----------+------+-------+------------------+\n",
            "|      3| 32|       9.0|     3|   Vivo|             288.0|\n",
            "|      3| 27|      13.0|     3|  Apple|             351.0|\n",
            "|      4| 22|       2.5|     0|Samsung|              55.0|\n",
            "|      4| 37|      16.5|     4|  Apple|             610.5|\n",
            "|      5| 27|       9.0|     1|     MI|             243.0|\n",
            "|      4| 27|       9.0|     0|   Oppo|             243.0|\n",
            "|      5| 37|      23.0|     5|   Vivo|             851.0|\n",
            "|      5| 37|      23.0|     5|Samsung|             851.0|\n",
            "|      3| 22|       2.5|     0|  Apple|              55.0|\n",
            "|      3| 27|       6.0|     0|     MI|             162.0|\n",
            "|      2| 27|       6.0|     2|   Oppo|             162.0|\n",
            "|      5| 27|       6.0|     2|Samsung|             162.0|\n",
            "|      3| 37|      16.5|     5|  Apple|             610.5|\n",
            "|      5| 27|       6.0|     0|     MI|             162.0|\n",
            "|      4| 22|       6.0|     1|   Oppo|             132.0|\n",
            "|      4| 37|       9.0|     2|Samsung|             333.0|\n",
            "|      4| 27|       6.0|     1|  Apple|             162.0|\n",
            "|      1| 37|      23.0|     5|     MI|             851.0|\n",
            "|      2| 42|      23.0|     2|   Oppo|             966.0|\n",
            "|      4| 37|       6.0|     0|   Vivo|             222.0|\n",
            "+-------+---+----------+------+-------+------------------+\n",
            "only showing top 20 rows\n",
            "\n"
          ]
        }
      ]
    },
    {
      "cell_type": "code",
      "source": [
        "df.count()"
      ],
      "metadata": {
        "colab": {
          "base_uri": "https://localhost:8080/"
        },
        "id": "FYQj6ehnxq3j",
        "outputId": "a7d4f881-84d3-4c1c-a843-d2f98f163e52"
      },
      "execution_count": 149,
      "outputs": [
        {
          "output_type": "execute_result",
          "data": {
            "text/plain": [
              "33"
            ]
          },
          "metadata": {},
          "execution_count": 149
        }
      ]
    },
    {
      "cell_type": "code",
      "source": [
        "df.dropDuplicates()"
      ],
      "metadata": {
        "colab": {
          "base_uri": "https://localhost:8080/"
        },
        "id": "O0h4oWbwyI8N",
        "outputId": "95480985-4879-4738-d492-6fd6ab47e9de"
      },
      "execution_count": 150,
      "outputs": [
        {
          "output_type": "execute_result",
          "data": {
            "text/plain": [
              "DataFrame[ratings: int, age: int, experience: double, family: int, mobile: string]"
            ]
          },
          "metadata": {},
          "execution_count": 150
        }
      ]
    },
    {
      "cell_type": "code",
      "source": [
        "df.count()"
      ],
      "metadata": {
        "colab": {
          "base_uri": "https://localhost:8080/"
        },
        "id": "FtZA9Y9pyK2S",
        "outputId": "a7ec64ca-2e4a-4712-9e5f-1fcf2d6acd42"
      },
      "execution_count": 151,
      "outputs": [
        {
          "output_type": "execute_result",
          "data": {
            "text/plain": [
              "33"
            ]
          },
          "metadata": {},
          "execution_count": 151
        }
      ]
    },
    {
      "cell_type": "code",
      "source": [
        "df_without_mobile=df.drop(df[\"mobile\"])"
      ],
      "metadata": {
        "id": "IVV2nJ8tyLzZ"
      },
      "execution_count": 152,
      "outputs": []
    },
    {
      "cell_type": "code",
      "source": [
        "df_without_mobile.show()"
      ],
      "metadata": {
        "colab": {
          "base_uri": "https://localhost:8080/"
        },
        "id": "O9ZMQJX4yRxq",
        "outputId": "dde012b1-f5c6-4a84-d865-57ad9b5ed460"
      },
      "execution_count": 154,
      "outputs": [
        {
          "output_type": "stream",
          "name": "stdout",
          "text": [
            "+-------+---+----------+------+\n",
            "|ratings|age|experience|family|\n",
            "+-------+---+----------+------+\n",
            "|      3| 32|       9.0|     3|\n",
            "|      3| 27|      13.0|     3|\n",
            "|      4| 22|       2.5|     0|\n",
            "|      4| 37|      16.5|     4|\n",
            "|      5| 27|       9.0|     1|\n",
            "|      4| 27|       9.0|     0|\n",
            "|      5| 37|      23.0|     5|\n",
            "|      5| 37|      23.0|     5|\n",
            "|      3| 22|       2.5|     0|\n",
            "|      3| 27|       6.0|     0|\n",
            "|      2| 27|       6.0|     2|\n",
            "|      5| 27|       6.0|     2|\n",
            "|      3| 37|      16.5|     5|\n",
            "|      5| 27|       6.0|     0|\n",
            "|      4| 22|       6.0|     1|\n",
            "|      4| 37|       9.0|     2|\n",
            "|      4| 27|       6.0|     1|\n",
            "|      1| 37|      23.0|     5|\n",
            "|      2| 42|      23.0|     2|\n",
            "|      4| 37|       6.0|     0|\n",
            "+-------+---+----------+------+\n",
            "only showing top 20 rows\n",
            "\n"
          ]
        }
      ]
    },
    {
      "cell_type": "code",
      "source": [
        "df.coalesce(2).write.format(\"csv\").option(\"header\",\"true\").save('/content/sample_data/sample_data3.csv')"
      ],
      "metadata": {
        "id": "cuma_PNcyU7Z"
      },
      "execution_count": 162,
      "outputs": []
    },
    {
      "cell_type": "code",
      "source": [
        "df.write.format(\"parquet\").save('/content/sample_data/sample_data4.csv')"
      ],
      "metadata": {
        "id": "UzLpT0qY0KEg"
      },
      "execution_count": 166,
      "outputs": []
    },
    {
      "cell_type": "code",
      "source": [],
      "metadata": {
        "id": "umOOnkix1R_m"
      },
      "execution_count": null,
      "outputs": []
    }
  ]
}